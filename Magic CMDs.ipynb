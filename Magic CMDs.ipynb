{
 "cells": [
  {
   "cell_type": "code",
   "execution_count": 1,
   "id": "65af93ea-ba63-43ee-8bb6-3ffb5ab1cebc",
   "metadata": {},
   "outputs": [],
   "source": [
    "# interpreted by jupyter "
   ]
  },
  {
   "cell_type": "code",
   "execution_count": null,
   "id": "f8f6248e-bea8-4c6f-af85-8937893b49dc",
   "metadata": {},
   "outputs": [],
   "source": [
    "%who  - variables defined, and imported stuff, interactive namespace\n",
    "%who_ls  - variables in cwd\n",
    "%whos  - variable, type , data/info  | more info than who \n",
    "%whos function\n",
    "%reset - user defined variables deleted "
   ]
  },
  {
   "cell_type": "code",
   "execution_count": null,
   "id": "e465fb7a-9b10-4235-99e3-cb10ab59e56a",
   "metadata": {},
   "outputs": [],
   "source": [
    "%timeit - for cell  - runs multiple time and mean and std dev statistics after n number of executions"
   ]
  },
  {
   "cell_type": "code",
   "execution_count": null,
   "id": "28e2abc5-0186-476b-a921-530bdbbbf998",
   "metadata": {},
   "outputs": [],
   "source": [
    "%%time - just time required to run the cell or statement "
   ]
  },
  {
   "cell_type": "code",
   "execution_count": null,
   "id": "91c8b4e5-4594-4cdd-978e-7425600d8584",
   "metadata": {},
   "outputs": [],
   "source": [
    "%%bash %%cmd "
   ]
  },
  {
   "cell_type": "code",
   "execution_count": null,
   "id": "6215efb0-e5c8-4fed-bc8d-769388b7d430",
   "metadata": {},
   "outputs": [],
   "source": [
    "%%javascript  - %%html or any other supported lan\n",
    "console.log(' this is js ran from this cell' ) "
   ]
  },
  {
   "cell_type": "code",
   "execution_count": null,
   "id": "423830d3-6c00-4918-bde9-08efdadedeb0",
   "metadata": {},
   "outputs": [],
   "source": [
    "%lsmagic - will show all magic commands "
   ]
  },
  {
   "cell_type": "code",
   "execution_count": null,
   "id": "accd0bec-c631-4da6-b7ca-01ee7e539820",
   "metadata": {},
   "outputs": [],
   "source": [
    "%%writefile this.py   - write cell to to a file \n",
    "%%file this2.oy - same as above "
   ]
  },
  {
   "cell_type": "code",
   "execution_count": null,
   "id": "d3fc8b17-61fa-4aca-8370-2950c263ab0c",
   "metadata": {},
   "outputs": [],
   "source": [
    "run python file \n",
    "!python this.py"
   ]
  },
  {
   "cell_type": "code",
   "execution_count": null,
   "id": "c4410cae-3a3c-43f0-af6d-70bfa5af43e5",
   "metadata": {},
   "outputs": [],
   "source": [
    "# statement through code profiler\n",
    "%%prun\n",
    "\n",
    "''' loop and functions , etc ... '''"
   ]
  },
  {
   "cell_type": "code",
   "execution_count": null,
   "id": "7789dce7-2c4f-4335-b959-3b9a6805a4e4",
   "metadata": {},
   "outputs": [],
   "source": [
    "%% system \n",
    "date"
   ]
  },
  {
   "cell_type": "code",
   "execution_count": null,
   "id": "e2c77a4c-e516-4bb9-99d8-dd68aa18ac4b",
   "metadata": {},
   "outputs": [],
   "source": []
  },
  {
   "cell_type": "code",
   "execution_count": null,
   "id": "3caa72d3-f99e-4efb-a8dd-2996158e4fcb",
   "metadata": {},
   "outputs": [],
   "source": []
  }
 ],
 "metadata": {
  "kernelspec": {
   "display_name": "anaconda-2022.05-py39",
   "language": "python",
   "name": "conda-env-anaconda-2022.05-py39-py"
  },
  "language_info": {
   "codemirror_mode": {
    "name": "ipython",
    "version": 3
   },
   "file_extension": ".py",
   "mimetype": "text/x-python",
   "name": "python",
   "nbconvert_exporter": "python",
   "pygments_lexer": "ipython3",
   "version": "3.9.12"
  }
 },
 "nbformat": 4,
 "nbformat_minor": 5
}
